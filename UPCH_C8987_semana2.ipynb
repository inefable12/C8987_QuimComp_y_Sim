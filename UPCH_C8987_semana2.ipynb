{
  "nbformat": 4,
  "nbformat_minor": 0,
  "metadata": {
    "colab": {
      "provenance": [],
      "authorship_tag": "ABX9TyNTXkDehEaBHPrYVSr/LKyv",
      "include_colab_link": true
    },
    "kernelspec": {
      "name": "python3",
      "display_name": "Python 3"
    },
    "language_info": {
      "name": "python"
    }
  },
  "cells": [
    {
      "cell_type": "markdown",
      "metadata": {
        "id": "view-in-github",
        "colab_type": "text"
      },
      "source": [
        "<a href=\"https://colab.research.google.com/github/inefable12/C8987_QuimComp_y_Sim/blob/main/UPCH_C8987_semana2.ipynb\" target=\"_parent\"><img src=\"https://colab.research.google.com/assets/colab-badge.svg\" alt=\"Open In Colab\"/></a>"
      ]
    },
    {
      "cell_type": "markdown",
      "source": [
        "$$\\Large \\textit{Cálculo de π y perfiles de energía}$$\n",
        "\n",
        "$$\\large\\textbf{Sesión N°2}$$\n",
        "$$\\textit{(C8987) Química Computacional y Simulaciones}$$"
      ],
      "metadata": {
        "id": "AcuBkI6ngrJ7"
      }
    },
    {
      "cell_type": "markdown",
      "source": [
        "# Método Montecarlo\n",
        "\n",
        "- Existen problemas en los que hay una gran variedad de escenarios posibles.\n",
        "- El método MonteCarlo nos permite explotar una muestra grande de los posibles resultados de un experimento.\n",
        "- Al realizar esta exploración se puede extraer información importante del fenómeno a estudiar.\n",
        "Veamos algunos ejemplos:\n",
        "- Cálculo de π\n",
        "- Difusión de neutrones. Este problema surgió en Los Alamos en las investigaciones de la bomba atómica y la solución dio origen al método Montecarlo.\n",
        "- Simulaciones en finanzas: De este modo, se simulan las propiedades estocásticas propias del mercado.\n",
        "\n",
        "Los números aleatorios son fundamentales en el método de Montecarlo, por lo cual, resulta necesario generarlos en las simulaciones que realizaremos.\n"
      ],
      "metadata": {
        "id": "Kk5YE5GAWUDn"
      }
    },
    {
      "cell_type": "markdown",
      "source": [
        "**Generación de números aleatorios**"
      ],
      "metadata": {
        "id": "Y5yvbJTEX7YT"
      }
    },
    {
      "cell_type": "code",
      "source": [
        "# Creamos un arreglo de números usando numpy\n",
        "import numpy as np\n",
        "\n",
        "a = np.array([10,40,5])\n",
        "a"
      ],
      "metadata": {
        "colab": {
          "base_uri": "https://localhost:8080/"
        },
        "id": "4DfjwgZyX6en",
        "outputId": "d387c8aa-7a9c-4e8c-963a-fe0f6589a124"
      },
      "execution_count": 4,
      "outputs": [
        {
          "output_type": "execute_result",
          "data": {
            "text/plain": [
              "array([10, 40,  5])"
            ]
          },
          "metadata": {},
          "execution_count": 4
        }
      ]
    },
    {
      "cell_type": "code",
      "source": [
        "# Podemos hacer operaciones\n",
        "3*a - 2*a - 1"
      ],
      "metadata": {
        "colab": {
          "base_uri": "https://localhost:8080/"
        },
        "id": "uI0VkkOvYPQv",
        "outputId": "998f7c1e-4f7b-4cdc-b9a4-efdf0fbf3d3a"
      },
      "execution_count": 13,
      "outputs": [
        {
          "output_type": "execute_result",
          "data": {
            "text/plain": [
              "array([ 9, 39,  4])"
            ]
          },
          "metadata": {},
          "execution_count": 13
        }
      ]
    },
    {
      "cell_type": "code",
      "source": [
        "# potenciación\n",
        "a**2"
      ],
      "metadata": {
        "colab": {
          "base_uri": "https://localhost:8080/"
        },
        "id": "XIP5Mej5Y60n",
        "outputId": "77a77de6-c249-42f0-dc9f-6a8d363cf69c"
      },
      "execution_count": 14,
      "outputs": [
        {
          "output_type": "execute_result",
          "data": {
            "text/plain": [
              "array([ 100, 1600,   25])"
            ]
          },
          "metadata": {},
          "execution_count": 14
        }
      ]
    },
    {
      "cell_type": "code",
      "source": [
        "# Llamar a cada elemento\n",
        "a[1]"
      ],
      "metadata": {
        "colab": {
          "base_uri": "https://localhost:8080/"
        },
        "id": "yh6fWJNgY6w5",
        "outputId": "aefef6af-9eeb-40ce-d85e-cf6dff195439"
      },
      "execution_count": 15,
      "outputs": [
        {
          "output_type": "execute_result",
          "data": {
            "text/plain": [
              "40"
            ]
          },
          "metadata": {},
          "execution_count": 15
        }
      ]
    },
    {
      "cell_type": "code",
      "source": [
        "# Generar números en un determinado rango\n",
        "b = np.linspace(10,20)\n",
        "b"
      ],
      "metadata": {
        "colab": {
          "base_uri": "https://localhost:8080/"
        },
        "id": "IPHk0T6oYU0j",
        "outputId": "40c7eb90-bb0a-4c54-a3f6-06c5a4dd8c2c"
      },
      "execution_count": 18,
      "outputs": [
        {
          "output_type": "execute_result",
          "data": {
            "text/plain": [
              "array([10.        , 10.20408163, 10.40816327, 10.6122449 , 10.81632653,\n",
              "       11.02040816, 11.2244898 , 11.42857143, 11.63265306, 11.83673469,\n",
              "       12.04081633, 12.24489796, 12.44897959, 12.65306122, 12.85714286,\n",
              "       13.06122449, 13.26530612, 13.46938776, 13.67346939, 13.87755102,\n",
              "       14.08163265, 14.28571429, 14.48979592, 14.69387755, 14.89795918,\n",
              "       15.10204082, 15.30612245, 15.51020408, 15.71428571, 15.91836735,\n",
              "       16.12244898, 16.32653061, 16.53061224, 16.73469388, 16.93877551,\n",
              "       17.14285714, 17.34693878, 17.55102041, 17.75510204, 17.95918367,\n",
              "       18.16326531, 18.36734694, 18.57142857, 18.7755102 , 18.97959184,\n",
              "       19.18367347, 19.3877551 , 19.59183673, 19.79591837, 20.        ])"
            ]
          },
          "metadata": {},
          "execution_count": 18
        }
      ]
    },
    {
      "cell_type": "code",
      "source": [
        "len(b)"
      ],
      "metadata": {
        "colab": {
          "base_uri": "https://localhost:8080/"
        },
        "id": "Dkz-e1eSZrZR",
        "outputId": "20cc7cf7-2cc0-46f2-d879-02a01d1cf1c0"
      },
      "execution_count": 19,
      "outputs": [
        {
          "output_type": "execute_result",
          "data": {
            "text/plain": [
              "50"
            ]
          },
          "metadata": {},
          "execution_count": 19
        }
      ]
    },
    {
      "cell_type": "code",
      "source": [
        "# Si indicamos cuantos números queremos generar\n",
        "b = np.linspace(20,200,10)\n",
        "b"
      ],
      "metadata": {
        "colab": {
          "base_uri": "https://localhost:8080/"
        },
        "id": "1ZpBvuRKZt05",
        "outputId": "bebc6777-9896-4187-d590-1e213f700c2b"
      },
      "execution_count": 27,
      "outputs": [
        {
          "output_type": "execute_result",
          "data": {
            "text/plain": [
              "array([ 20.,  40.,  60.,  80., 100., 120., 140., 160., 180., 200.])"
            ]
          },
          "metadata": {},
          "execution_count": 27
        }
      ]
    },
    {
      "cell_type": "markdown",
      "source": [
        "Usando linspace le indicamos el número inicial, el final y el número de elementos contenidos, sin embargo, existe otra forma de generar los números indicando el intervalo que deseamos que tengan los números, para ello usamos arange."
      ],
      "metadata": {
        "id": "wEaHwPD0aLf3"
      }
    },
    {
      "cell_type": "code",
      "source": [
        "c = np.arange(20,200,10)\n",
        "c"
      ],
      "metadata": {
        "colab": {
          "base_uri": "https://localhost:8080/"
        },
        "id": "zNHfou00ZtvP",
        "outputId": "4bd6e9af-4c19-4073-f695-07651dbb726e"
      },
      "execution_count": 28,
      "outputs": [
        {
          "output_type": "execute_result",
          "data": {
            "text/plain": [
              "array([ 20,  30,  40,  50,  60,  70,  80,  90, 100, 110, 120, 130, 140,\n",
              "       150, 160, 170, 180, 190])"
            ]
          },
          "metadata": {},
          "execution_count": 28
        }
      ]
    },
    {
      "cell_type": "code",
      "source": [
        "len(c)"
      ],
      "metadata": {
        "colab": {
          "base_uri": "https://localhost:8080/"
        },
        "id": "YjheDnMFZtk2",
        "outputId": "feb908a1-0dd9-4e4c-b4a3-c4d6f7013873"
      },
      "execution_count": 29,
      "outputs": [
        {
          "output_type": "execute_result",
          "data": {
            "text/plain": [
              "18"
            ]
          },
          "metadata": {},
          "execution_count": 29
        }
      ]
    },
    {
      "cell_type": "code",
      "source": [
        "type(c[0])"
      ],
      "metadata": {
        "colab": {
          "base_uri": "https://localhost:8080/"
        },
        "id": "uQpgpdubbFj7",
        "outputId": "ef434be0-9ced-45f9-bbef-dc5c7dd165ba"
      },
      "execution_count": 31,
      "outputs": [
        {
          "output_type": "execute_result",
          "data": {
            "text/plain": [
              "numpy.int64"
            ]
          },
          "metadata": {},
          "execution_count": 31
        }
      ]
    },
    {
      "cell_type": "code",
      "source": [
        "type(b[0])"
      ],
      "metadata": {
        "colab": {
          "base_uri": "https://localhost:8080/"
        },
        "id": "7Fqg_QewbMNW",
        "outputId": "3ef63731-aa0b-45b5-9908-f53a0dcfa425"
      },
      "execution_count": 32,
      "outputs": [
        {
          "output_type": "execute_result",
          "data": {
            "text/plain": [
              "numpy.float64"
            ]
          },
          "metadata": {},
          "execution_count": 32
        }
      ]
    },
    {
      "cell_type": "code",
      "source": [
        "# Para la creación de números aleatorios entre 0 y 1 podemos usar random\n",
        "np.random.rand(3,2)"
      ],
      "metadata": {
        "colab": {
          "base_uri": "https://localhost:8080/"
        },
        "id": "tGYpcd8RbTYd",
        "outputId": "a4553a8d-ae63-476c-dc86-a4100e110f9b"
      },
      "execution_count": 34,
      "outputs": [
        {
          "output_type": "execute_result",
          "data": {
            "text/plain": [
              "array([[0.55302294, 0.87909499],\n",
              "       [0.08667529, 0.64017763],\n",
              "       [0.05187638, 0.47170033]])"
            ]
          },
          "metadata": {},
          "execution_count": 34
        }
      ]
    },
    {
      "cell_type": "code",
      "source": [
        "# Podemos utilizar \"choice\" para seleccionar aleatoriamente un elemento\n",
        "nombres = np.array(['maria','juan','pedro','ana'])\n",
        "print('Selección: ', np.random.choice(nombres))"
      ],
      "metadata": {
        "colab": {
          "base_uri": "https://localhost:8080/"
        },
        "id": "Acve2y-Tb39c",
        "outputId": "d56e4f4a-f663-4151-c19d-1534ddc85a44"
      },
      "execution_count": 38,
      "outputs": [
        {
          "output_type": "stream",
          "name": "stdout",
          "text": [
            "Selección:  pedro\n"
          ]
        }
      ]
    },
    {
      "cell_type": "code",
      "source": [
        "# Ejercicio: Elabora el código para repartir una carta aleatoria en una baraja\n",
        "# Ejemplo: 5 trebol, 3 corazon"
      ],
      "metadata": {
        "id": "YipYBg3pcd7V"
      },
      "execution_count": null,
      "outputs": []
    },
    {
      "cell_type": "markdown",
      "source": [
        "# A. Aplicaciones del método"
      ],
      "metadata": {
        "id": "aaJfcPq66RMm"
      }
    },
    {
      "cell_type": "markdown",
      "source": [
        "## 1. Lanzamiento de moneda"
      ],
      "metadata": {
        "id": "NJ2NiHo4dUoi"
      }
    },
    {
      "cell_type": "code",
      "source": [
        "# Creamos una función para obtener cara o sello\n",
        "\n",
        "def lanzar_moneda():\n",
        "  moneda = np.array(['cara','sello'])\n",
        "  resultado = np.random.choice(moneda)\n",
        "  return(resultado)"
      ],
      "metadata": {
        "id": "G5tiK69CdPtW"
      },
      "execution_count": 39,
      "outputs": []
    },
    {
      "cell_type": "code",
      "source": [
        "lanzar_moneda()"
      ],
      "metadata": {
        "colab": {
          "base_uri": "https://localhost:8080/",
          "height": 36
        },
        "id": "XxIm2mKDetKV",
        "outputId": "0c06df32-3ab5-4135-de9c-ceab16671487"
      },
      "execution_count": 46,
      "outputs": [
        {
          "output_type": "execute_result",
          "data": {
            "text/plain": [
              "'sello'"
            ],
            "application/vnd.google.colaboratory.intrinsic+json": {
              "type": "string"
            }
          },
          "metadata": {},
          "execution_count": 46
        }
      ]
    },
    {
      "cell_type": "code",
      "source": [
        "# Conteo de resultados\n",
        "caraConteo = 0\n",
        "selloConteo = 0\n",
        "for i in range(1000):\n",
        "  resultado = lanzar_moneda()\n",
        "  if resultado == 'cara':\n",
        "    caraConteo += 1\n",
        "  else:\n",
        "    selloConteo += 1\n",
        "print('Conteo cara: ', caraConteo)\n",
        "print('Conteo sello: ', selloConteo)"
      ],
      "metadata": {
        "colab": {
          "base_uri": "https://localhost:8080/"
        },
        "id": "AkBP6_ATfDVS",
        "outputId": "b3fe21de-ba94-48a2-c388-e9d4698237a0"
      },
      "execution_count": 50,
      "outputs": [
        {
          "output_type": "stream",
          "name": "stdout",
          "text": [
            "Conteo cara:  471\n",
            "Conteo sello:  529\n"
          ]
        }
      ]
    },
    {
      "cell_type": "markdown",
      "source": [
        "## 2. Apuesta en ruleta"
      ],
      "metadata": {
        "id": "MI-1oYO4r1rL"
      }
    },
    {
      "cell_type": "code",
      "source": [
        "# En una ruleta tenemos 37 casilleros, realicemos apuestas y veamos qué casos de éxito tenemos\n",
        "\n",
        "num = np.arange(0,37)\n",
        "num"
      ],
      "metadata": {
        "colab": {
          "base_uri": "https://localhost:8080/"
        },
        "id": "g8IU88jorzK3",
        "outputId": "f2703016-9094-4aa9-a2e2-b40386e1a72a"
      },
      "execution_count": 51,
      "outputs": [
        {
          "output_type": "execute_result",
          "data": {
            "text/plain": [
              "array([ 0,  1,  2,  3,  4,  5,  6,  7,  8,  9, 10, 11, 12, 13, 14, 15, 16,\n",
              "       17, 18, 19, 20, 21, 22, 23, 24, 25, 26, 27, 28, 29, 30, 31, 32, 33,\n",
              "       34, 35, 36])"
            ]
          },
          "metadata": {},
          "execution_count": 51
        }
      ]
    },
    {
      "cell_type": "code",
      "source": [
        "apuesta = input('Escoje un número entre el 0 y 36: ')\n",
        "res = np.random.choice(num)\n",
        "print('Apostaste por',apuesta,'Resultado es',res)\n",
        "if apuesta == res:\n",
        "  print('GANADOR :-)')\n",
        "else:\n",
        "  print('PERDISTE :-(')"
      ],
      "metadata": {
        "colab": {
          "base_uri": "https://localhost:8080/"
        },
        "id": "x6DQSgYKsZt-",
        "outputId": "b5aa9770-529a-4413-9d26-61451fd184d0"
      },
      "execution_count": 52,
      "outputs": [
        {
          "output_type": "stream",
          "name": "stdout",
          "text": [
            "Escoje un número entre el 0 y 36: 20\n",
            "Apostaste por 20 Resultado es 18\n",
            "PERDISTE :-(\n"
          ]
        }
      ]
    },
    {
      "cell_type": "code",
      "source": [
        "# Si disponemos de un capital inicial de 100\n",
        "dinero_total = 100\n",
        "apuesta = 17\n",
        "\n",
        "print('Apostaste por', apuesta,'resultado: ',res)\n",
        "if apuesta == res:\n",
        "  #ganaste\n",
        "  dinero_total += 1\n",
        "else:\n",
        "  dinero_total -= 1\n",
        "print('Dinero:', dinero_total)"
      ],
      "metadata": {
        "colab": {
          "base_uri": "https://localhost:8080/"
        },
        "id": "4qfrGWtws8Q7",
        "outputId": "719a39d1-9e88-45a7-d117-ee220820e28e"
      },
      "execution_count": 56,
      "outputs": [
        {
          "output_type": "stream",
          "name": "stdout",
          "text": [
            "Apostaste por 17 resultado:  18\n",
            "Dinero: 99\n"
          ]
        }
      ]
    },
    {
      "cell_type": "code",
      "source": [
        "# Si realizamos varias apuestas\n",
        "dinero_total = 100\n",
        "apuesta = 17\n",
        "\n",
        "for i in range(5):\n",
        "  print('Jugada número',i+1)\n",
        "  res = np.random.choice(num)\n",
        "  print('Apostaste por', apuesta,'resultado: ',res)\n",
        "  if apuesta == res:\n",
        "    #ganaste\n",
        "    dinero_total += 1\n",
        "  else:\n",
        "    dinero_total -= 1\n",
        "print('Dinero:', dinero_total)"
      ],
      "metadata": {
        "colab": {
          "base_uri": "https://localhost:8080/"
        },
        "id": "AgdDDMUatl3k",
        "outputId": "c5c1113c-5b52-48bb-f27d-65733128ab6d"
      },
      "execution_count": 60,
      "outputs": [
        {
          "output_type": "stream",
          "name": "stdout",
          "text": [
            "Jugada número 1\n",
            "Apostaste por 17 resultado:  26\n",
            "Jugada número 2\n",
            "Apostaste por 17 resultado:  7\n",
            "Jugada número 3\n",
            "Apostaste por 17 resultado:  10\n",
            "Jugada número 4\n",
            "Apostaste por 17 resultado:  23\n",
            "Jugada número 5\n",
            "Apostaste por 17 resultado:  1\n",
            "Dinero: 95\n"
          ]
        }
      ]
    },
    {
      "cell_type": "code",
      "source": [
        "def jugar(apuesta,N):\n",
        "  # N apuestas por el número \"apuesta\" en la ruleta\n",
        "  num = np.arange(0,37)\n",
        "  ganar = 0\n",
        "  perder = 0\n",
        "  for i in range(N):\n",
        "    res = np.random.choice(num)\n",
        "    if apuesta == res:\n",
        "      ganar += 1\n",
        "    else:\n",
        "      perder += 1\n",
        "  return [ganar,perder]"
      ],
      "metadata": {
        "id": "4u9t1CZYulCv"
      },
      "execution_count": 61,
      "outputs": []
    },
    {
      "cell_type": "code",
      "source": [
        "jugar(17,100)"
      ],
      "metadata": {
        "colab": {
          "base_uri": "https://localhost:8080/"
        },
        "id": "OmvQ6NmZvEWI",
        "outputId": "aa116f25-06af-4473-e627-b86aa76d1cb4"
      },
      "execution_count": 63,
      "outputs": [
        {
          "output_type": "execute_result",
          "data": {
            "text/plain": [
              "[1, 99]"
            ]
          },
          "metadata": {},
          "execution_count": 63
        }
      ]
    },
    {
      "cell_type": "code",
      "source": [
        "N = 50 #numero de veces que se juega\n",
        "apuesta = 17 #mi número elegido\n",
        "dinero_inicial = 100\n",
        "num = np.arange(0,37)\n",
        "ganar = 0\n",
        "perder = 0\n",
        "\n",
        "for i in range(N):\n",
        "    res = np.random.choice(num)\n",
        "    if apuesta == res:\n",
        "      ganar += 1\n",
        "      dinero_inicial += 1\n",
        "      plt.plot(i,dinero_inicial,'ro')\n",
        "    else:\n",
        "      perder += 1\n",
        "      dinero_inicial -= 1\n",
        "      plt.plot(i,dinero_inicial,'ro')\n"
      ],
      "metadata": {
        "colab": {
          "base_uri": "https://localhost:8080/",
          "height": 430
        },
        "id": "LY8eQ2j_xjb5",
        "outputId": "89361283-ed7e-4490-ac74-46c31bffe555"
      },
      "execution_count": 76,
      "outputs": [
        {
          "output_type": "display_data",
          "data": {
            "text/plain": [
              "<Figure size 640x480 with 1 Axes>"
            ],
            "image/png": "[encoded data removed]"
          },
          "metadata": {}
        }
      ]
    },
    {
      "cell_type": "markdown",
      "source": [
        "## Calculo de π"
      ],
      "metadata": {
        "id": "pmpHb-JB6WzS"
      }
    },
    {
      "cell_type": "markdown",
      "source": [
        "Crear el código para calcular π empleando una función llamada \"monte_carlo_pi\" aplicada a un número de muestras \"num_samples\"."
      ],
      "metadata": {
        "id": "u-nEeENgvTU5"
      }
    },
    {
      "cell_type": "code",
      "source": [
        "# Elabora tu código\n"
      ],
      "metadata": {
        "id": "xmrLJoNov2cW"
      },
      "execution_count": null,
      "outputs": []
    },
    {
      "cell_type": "code",
      "source": [
        "num_samples = 10000000  # Número de muestras a utilizar\n",
        "pi_estimate = monte_carlo_pi(num_samples)\n",
        "print(\"Estimación de pi usando método de Monte Carlo:\", pi_estimate)"
      ],
      "metadata": {
        "colab": {
          "base_uri": "https://localhost:8080/"
        },
        "id": "dPgWt_Qu8zgd",
        "outputId": "9c36e404-6e39-4638-e708-6c5046f0cb0e"
      },
      "execution_count": null,
      "outputs": [
        {
          "output_type": "stream",
          "name": "stdout",
          "text": [
            "Estimación de pi usando método de Monte Carlo: 3.1410788\n"
          ]
        }
      ]
    },
    {
      "cell_type": "markdown",
      "source": [
        "# 2. Perfil de energía"
      ],
      "metadata": {
        "id": "1n2WC4Hf6P6i"
      }
    },
    {
      "cell_type": "code",
      "source": [
        "%%capture\n",
        "!pip install git+https://github.com/giacomomarchioro/PyEnergyDiagrams"
      ],
      "metadata": {
        "id": "Mzqg8AAWwcng"
      },
      "execution_count": 64,
      "outputs": []
    },
    {
      "cell_type": "code",
      "source": [
        "import matplotlib.pyplot as plt\n",
        "from energydiagram import ED"
      ],
      "metadata": {
        "id": "CgWtkLdywckG"
      },
      "execution_count": 65,
      "outputs": []
    },
    {
      "cell_type": "code",
      "source": [
        "resultado_cis = -214.25\n",
        "resultado_cis_90 = -202.53\n",
        "resultado_trans = -213.71\n",
        "\n",
        "diagram = ED()\n",
        "diagram.add_level(resultado_cis,'Cis',color='y')\n",
        "diagram.add_level(resultado_cis_90,'TS',color='r')\n",
        "diagram.add_level(resultado_trans,'trans',color='g')\n",
        "\n",
        "diagram.add_link(0,1)\n",
        "diagram.add_link(1,2)\n",
        "diagram.plot(ylabel=\"Energy\")"
      ],
      "metadata": {
        "colab": {
          "base_uri": "https://localhost:8080/",
          "height": 419
        },
        "id": "YPrvsQ-kwch0",
        "outputId": "30143a00-7e01-4060-f31f-1feb2f38cd53"
      },
      "execution_count": 69,
      "outputs": [
        {
          "output_type": "display_data",
          "data": {
            "text/plain": [
              "<Figure size 640x480 with 1 Axes>"
            ],
            "image/png": "[encoded data removed]"
          },
          "metadata": {}
        }
      ]
    },
    {
      "cell_type": "code",
      "source": [
        "E_activacion = resultado_cis_90 - resultado_cis\n",
        "E_activacion"
      ],
      "metadata": {
        "colab": {
          "base_uri": "https://localhost:8080/"
        },
        "id": "E_oALq81wcfI",
        "outputId": "fe14de92-4989-4deb-e9fe-25d6b10ebddb"
      },
      "execution_count": 70,
      "outputs": [
        {
          "output_type": "execute_result",
          "data": {
            "text/plain": [
              "11.719999999999999"
            ]
          },
          "metadata": {},
          "execution_count": 70
        }
      ]
    },
    {
      "cell_type": "code",
      "source": [
        "entalpia = resultado_trans - resultado_cis\n",
        "if entalpia>0:\n",
        "  print(\"La reacción es endotérmica\")\n",
        "else:\n",
        "    print(\"La reacción es exotérmica\")"
      ],
      "metadata": {
        "colab": {
          "base_uri": "https://localhost:8080/"
        },
        "id": "eV_gk0AFxNoK",
        "outputId": "3b0e668a-ff25-4d5e-af00-f95e30830b26"
      },
      "execution_count": 71,
      "outputs": [
        {
          "output_type": "stream",
          "name": "stdout",
          "text": [
            "La reacción es endotérmica\n"
          ]
        }
      ]
    }
  ]
}